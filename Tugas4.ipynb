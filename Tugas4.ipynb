{
  "nbformat": 4,
  "nbformat_minor": 0,
  "metadata": {
    "colab": {
      "provenance": []
    },
    "kernelspec": {
      "name": "python3",
      "display_name": "Python 3"
    },
    "language_info": {
      "name": "python"
    }
  },
  "cells": [
    {
      "cell_type": "code",
      "source": [
        "import matplotlib.pyplot as plt"
      ],
      "metadata": {
        "id": "P2tkPHdmWaWT"
      },
      "execution_count": null,
      "outputs": []
    },
    {
      "cell_type": "code",
      "execution_count": null,
      "metadata": {
        "id": "0nGl7dLdQSMh",
        "colab": {
          "base_uri": "https://localhost:8080/",
          "height": 578
        },
        "outputId": "9ded3f27-3794-4bd7-c816-a5906d2cf147"
      },
      "outputs": [
        {
          "output_type": "stream",
          "name": "stdout",
          "text": [
            " ===== SOAL 1 ===== \n",
            "\n",
            "Jumlah makanan yang di pesan : 24\n",
            "1. Hitunglah berapa jumlah semua makanan yang di pesan dan jumlahkan Harganya Rp.545000\n",
            "\n",
            " ===== SOAL 2 ===== \n",
            "\n",
            "Persentaseu burger 0.25%\n",
            "Persentaseu burger 0.125%\n",
            "Persentaseu burger 0.16666666666666666%\n",
            "Persentaseu burger 0.16666666666666666%\n",
            "Persentaseu burger 0.08333333333333333%\n",
            "Persentaseu burger 0.20833333333333334%\n",
            "\n"
          ]
        },
        {
          "output_type": "display_data",
          "data": {
            "text/plain": [
              "<Figure size 432x288 with 1 Axes>"
            ],
            "image/png": "[encoded data removed]"
          },
          "metadata": {}
        }
      ],
      "source": [
        "Burger = 24000\n",
        "Pizza = 52000\n",
        "Dimsum = 30000\n",
        "Ekkado = 7500\n",
        "Milkshake = 10000\n",
        "Eskrim\t= 15000\n",
        "\n",
        "print(\" ===== SOAL 1 ===== \")\n",
        "print(\"\")\n",
        "b_burger = 6\n",
        "b_pizza = 3\n",
        "b_dimsum = 4\n",
        "b_ekkado = 4\n",
        "b_milkshake = 2\n",
        "b_eskrim = 5\n",
        "\n",
        "hasil_S = (b_burger * Burger) + (b_pizza * Pizza) + (b_dimsum * Dimsum) + (b_ekkado * Ekkado) + (b_milkshake * Milkshake) + ( b_eskrim * Eskrim)\n",
        "total_m =( b_burger + b_pizza + b_dimsum + b_ekkado + b_milkshake + b_eskrim)\n",
        "print(\"Jumlah makanan yang di pesan : \" + str(total_m))\n",
        "print(\"1. Hitunglah berapa jumlah semua makanan yang di pesan dan jumlahkan Harganya Rp.\" + str(hasil_S))\n",
        "print(\"\")\n",
        "\n",
        "print(\" ===== SOAL 2 ===== \")\n",
        "print(\"\")\n",
        "\n",
        "\n",
        "a = (b_burger / 24)\n",
        "print(\"Persentaseu burger \" + str(a) + \"%\")\n",
        "b = (b_pizza / 24)\n",
        "print(\"Persentaseu burger \" + str(b) + \"%\")\n",
        "c = (b_dimsum / 24)\n",
        "print(\"Persentaseu burger \" + str(c) + \"%\")\n",
        "d = (b_ekkado / 24)\n",
        "print(\"Persentaseu burger \" + str(d) + \"%\")\n",
        "e = (b_milkshake / 24)\n",
        "print(\"Persentaseu burger \" + str(e) + \"%\")\n",
        "f = (b_eskrim / 24)\n",
        "print(\"Persentaseu burger \" + str(f) + \"%\")\n",
        "print(\"\")\n",
        "\n",
        "fig = plt.figure()\n",
        "ax = fig.add_axes([0,0,1,1])\n",
        "ax.axis ('equal')\n",
        "plt.title(\"persentase\")\n",
        "nama = ['Buerger', 'pizza', 'dimsum', 'ekkado', 'milkshake', 'eskrim']\n",
        "persentase = [20.0, 12.5, 16.7, 16.7, 8.33, 20.83]\n",
        "ax.pie(persentase,labels=nama,autopct='%1.2f%%')\n",
        "plt.show()\n"
      ]
    },
    {
      "cell_type": "code",
      "source": [
        "print(\" ===== SOAL 3 ===== \")\n",
        "print(\"1.AHMAD\")\n",
        "burger_a = 4\n",
        "pizza_a = 2\n",
        "\n",
        "ahmad = (0.70 * ((burger_a * 24000) + (pizza_a * 52000))  ) + (7.5 * 2000) - 5000\n",
        "hasil_a = (200000 - ahmad)\n",
        "print(\"jumlah belanjaan AHMAD Rp.\" + str(ahmad))\n",
        "print(\"Maka kembalianya adalah Rp.\" + str(hasil_a))\n",
        "print(\"\")\n",
        "\n",
        "print(\"2.BENI\")\n",
        "dimsum_b = 3\n",
        "eskrim_b = 1\n",
        "Milkshake_b = 2\n",
        "\n",
        "beni = (0.70 * ((dimsum_b * 30000) + (eskrim_b * 15000) + (Milkshake_b * 10000))  ) + (4 * 1800) - 5000\n",
        "hasil_b = (150000 - beni)\n",
        "print(\"jumlah belanjaan BENI Rp.\" + str(beni))\n",
        "print(\"Maka kembalianya adalah Rp.\" + str(hasil_b))\n",
        "print(\"\")\n",
        "\n",
        "print(\"3.CITRA\")\n",
        "eskrim_c = 3\n",
        "\n",
        "citra = (eskrim_c * 15000) + (8 * 2000) - 5000\n",
        "hasil_c = (60000 - citra)\n",
        "print(\"Jumlah belanjaan CITRA Rp.\" + str(citra))\n",
        "print(\"Maka kembalianya adalah Rp.\" + str(hasil_c))\n",
        "print(\"\")\n",
        "\n",
        "print(\"4.DADANG\")\n",
        "burger_d = 2\n",
        "dimsum_d = 1\n",
        "\n",
        "dadang = (0.80 * ((burger_d * 24000) + (dimsum_d * 30000))  ) + (5 * 1800) - 5000\n",
        "hasil_d = (100000 - dadang)\n",
        "print(\"Jumlah belanjaan DADANG Rp.\"+ str(dadang))\n",
        "print(\"Maka kembalianya adalah Rp.\" + str(hasil_d))\n",
        "print(\"\")\n",
        "\n",
        "print(\"5.EPEN\")\n",
        "ekkado_e = 4\n",
        "eskrim_e = 1\n",
        "pizza_e = 1\n",
        "\n",
        "epen = (0.70 * ((ekkado_e * 7500) + (eskrim_e * 15000) + (pizza_e * 52000))  ) + (12 * 2200) - 5000\n",
        "hasil_e = (100000 - epen)\n",
        "print(\"Jumlah belanjaan EPEN Rp.\" + str(epen))\n",
        "print(\"Maka kembalianya adalah Rp.\" + str(hasil_e))"
      ],
      "metadata": {
        "colab": {
          "base_uri": "https://localhost:8080/"
        },
        "id": "snlVkK5Ov6ln",
        "outputId": "e1d9bf6c-bf0d-428f-8e2b-efa2ad1dc0e5"
      },
      "execution_count": null,
      "outputs": [
        {
          "output_type": "stream",
          "name": "stdout",
          "text": [
            " ===== SOAL 3 ===== \n",
            "1.AHMAD\n",
            "jumlah belanjaan AHMAD Rp.150000.0\n",
            "Maka kembalianya adalah Rp.50000.0\n",
            "\n",
            "2.BENI\n",
            "jumlah belanjaan BENI Rp.89700.0\n",
            "Maka kembalianya adalah Rp.60300.0\n",
            "\n",
            "3.CITRA\n",
            "Jumlah belanjaan CITRA Rp.56000\n",
            "Maka kembalianya adalah Rp.4000\n",
            "\n",
            "4.DADANG\n",
            "Jumlah belanjaan DADANG Rp.66400.0\n",
            "Maka kembalianya adalah Rp.33600.0\n",
            "\n",
            "5.EPEN\n",
            "Jumlah belanjaan EPEN Rp.89300.0\n",
            "Maka kembalianya adalah Rp.10700.0\n"
          ]
        }
      ]
    },
    {
      "cell_type": "code",
      "source": [
        "print(\" ========== SOAL 4 ========== \")\n",
        "print(\"JUMLAH POTONGAN\")\n",
        "#ahmad\n",
        "burger_a = 4\n",
        "pizza_a = 2\n",
        "\n",
        "hasil_a = (0.30 * ((burger_a * 24000) + (pizza_a * 52000)) ) + 5000\n",
        "print(\"Maka jumlah potongan AHMAD : Rp.\" + str(hasil_a))\n",
        "\n",
        "#beni\n",
        "dimsum_b = 3\n",
        "eskrim_b = 1\n",
        "Milkshake_b = 2\n",
        "\n",
        "hasil_b = (0.30 * ((dimsum_b * 30000) + (eskrim_b * 15000) + (Milkshake_b * 10000))  ) + 5000\n",
        "print(\"Maka jumlah potongan BENI : Rp.\" + str(hasil_b))\n",
        "\n",
        "#citra\n",
        "eskrim_c = 3\n",
        "\n",
        "hasil_c = 0 * (eskrim_c * 15000) + 5000\n",
        "print(\"Jumlah belanjaan CITRA Rp.\" + str(hasil_c))\n",
        "\n",
        "#dadang\n",
        "burger_d = 2\n",
        "dimsum_d = 1\n",
        "\n",
        "hasil_d = (0.20 * ((burger_d * 24000) + (dimsum_d * 30000))  ) + 5000\n",
        "print(\"Jumlah belanjaan DADANG Rp.\"+ str(hasil_d))\n",
        "\n",
        "#epen\n",
        "ekkado_e = 4\n",
        "eskrim_e = 1\n",
        "pizza_e = 1\n",
        "\n",
        "hasil_e = (0.30 * ((ekkado_e * 7500) + (eskrim_e * 15000) + (pizza_e * 52000))  ) + 5000\n",
        "print(\"Jumlah belanjaan EPEN Rp.\" + str(hasil_e))\n",
        "\n"
      ],
      "metadata": {
        "colab": {
          "base_uri": "https://localhost:8080/"
        },
        "id": "a7aZoNo7jq5m",
        "outputId": "7658514c-b2d8-43c3-f23c-11b5d3ca5be5"
      },
      "execution_count": null,
      "outputs": [
        {
          "output_type": "stream",
          "name": "stdout",
          "text": [
            " ========== SOAL 4 ========== \n",
            "JUMLAH POTONGAN\n",
            "Maka jumlah potongan AHMAD : Rp.65000.0\n",
            "Maka jumlah potongan BENI : Rp.42500.0\n",
            "Jumlah belanjaan CITRA Rp.5000\n",
            "Jumlah belanjaan DADANG Rp.20600.0\n",
            "Jumlah belanjaan EPEN Rp.34100.0\n"
          ]
        }
      ]
    },
    {
      "cell_type": "code",
      "source": [
        "print(\"  ========== SOAL 5 ========= \")\n",
        "print(\"Jarak tambah ongkir\")\n",
        "a = 7.5\n",
        "b = 2000\n",
        "c = 4\n",
        "d = 1800\n",
        "e = 8\n",
        "f = 2000\n",
        "g = 5\n",
        "h = 1800\n",
        "i = 12\n",
        "j = 2200\n",
        "\n",
        "hasil_jo = (a * b) + (c * d) + (e * f) + (g * h) + (i * j)\n",
        "print(\"Maka hasil dari semua jarak ongkir adalah Rp.\" + str(hasil_jo))\n"
      ],
      "metadata": {
        "colab": {
          "base_uri": "https://localhost:8080/"
        },
        "id": "igLBOLkprDtq",
        "outputId": "0378ede2-4c68-46db-cd20-d3783e565dcc"
      },
      "execution_count": null,
      "outputs": [
        {
          "output_type": "stream",
          "name": "stdout",
          "text": [
            "  ========== SOAL 5 ========= \n",
            "Jarak tambah ongkir\n",
            "Maka hasil dari semua jarak ongkir adalah Rp.73600.0\n"
          ]
        }
      ]
    },
    {
      "cell_type": "code",
      "source": [
        "\n"
      ],
      "metadata": {
        "id": "zHoq9v5xiHSJ"
      },
      "execution_count": null,
      "outputs": []
    }
  ]
}
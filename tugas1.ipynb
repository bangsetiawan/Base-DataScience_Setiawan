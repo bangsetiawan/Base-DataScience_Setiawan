{
  "cells": [
    {
      "cell_type": "code",
      "execution_count": null,
      "metadata": {
        "colab": {
          "base_uri": "https://localhost:8080/"
        },
        "id": "uzGbnTb40SQV",
        "outputId": "55a4d6cd-7e46-4287-a7cf-dbd7bfe9b08f"
      },
      "outputs": [
        {
          "name": "stdout",
          "output_type": "stream",
          "text": [
            "==Belanjaan Tia==\n",
            "Maka jumlah belanjaan Tia Rp.246600\n",
            "Maka jumlah belanjaan tia setelah mendapatkan diskon adalah Rp.209610.0\n",
            "\n",
            "==Belanjaan Hana==\n",
            "Maka jumlah belanjaan hana Rp.193200.0\n",
            "Maka jumlah belanjaan hana setelah mendapatkan diskon adalah Rp.173880.0\n",
            "\n",
            "==Belanjaan Widia==\n",
            "Maka jumlah belanjaan widia Rp.119300\n",
            "\n",
            "==Belanjaan Romi==\n",
            "Maka jumlah belanjaan romi Rp.221700\n",
            "Maka jumlah belanjaan romi setelah mendapatkan diskon adalah Rp.188445.0\n",
            "\n",
            "==Belanjaan Samsul==\n",
            "Maka jumlah belanjaan Samsul Rp.323800\n",
            "Maka jumlah belanjaan Samsul setelah mendapatkan diskon adalah Rp.242850.0\n",
            "\n",
            "==Belanjaan dimas==\n",
            "Maka jumlah belanjaan Dimas Rp.379300\n",
            "Maka jumlah belanjaan Dimas setelah mendapatkan diskon adalah Rp.284475.0\n",
            "\n",
            "===Soal 3===\n",
            "Maka jumlah belanjaan paling besar setelah diskon adalah dimas RP.[284475]\n",
            "\n",
            "===Soal 4===\n",
            "Maka yang mendapat diskon 10% adalah : {'hana': 'RP. 173880'}\n",
            "\n"
          ]
        }
      ],
      "source": [
        "beras = 11400 #perKg\n",
        "minyak = 12700 #per1liter\n",
        "ayam = 3400 #per100gr\n",
        "telur = 21800 #per1Kg\n",
        "popok = 27000 #perPCS\n",
        "sabun_cuci = 1800 #per100gr\n",
        "buah_anggur = 3800 #per100gr\n",
        "roti_tawar = 8500 #per100gr\n",
        "tissu = 6400 #perPCS\n",
        "mie_instan = 2200 #perPCS\n",
        "\n",
        "print(\"==Belanjaan Tia==\")\n",
        "beras_tia = 4\n",
        "ayam_tia = 2\n",
        "telur_tia = 3 \n",
        "sabun_cuci_tia = 5\n",
        "buah_anggur_tia = 4\n",
        "roti_tawar_tia = 2\n",
        "mie_instan_tia = 12\n",
        "#diskon\n",
        "diskon = 85 #kelebihan dari 10\n",
        "\n",
        "jb_tia = (beras_tia * beras) + (ayam_tia * (ayam * 10)) + (telur_tia * telur) + (sabun_cuci_tia * sabun_cuci) + (buah_anggur_tia * buah_anggur) + (roti_tawar_tia * roti_tawar) + (mie_instan_tia * mie_instan)\n",
        "jb_diskon_tia = (jb_tia / 100) * diskon\n",
        "print (\"Maka jumlah belanjaan Tia Rp.\" + str(jb_tia))\n",
        "print (\"Maka jumlah belanjaan tia setelah mendapatkan diskon adalah Rp.\" + str(jb_diskon_tia))\n",
        "print(\"\")\n",
        "\n",
        "print(\"==Belanjaan Hana==\")\n",
        "minyak_hana = 2\n",
        "ayam_hana = 5\n",
        "telur_hana = 1.5\n",
        "sabun_cuci_hana = 3\n",
        "buah_anggur_hana = 8\n",
        "roti_tawar_hana = 3\n",
        "tissu_hana = 2\n",
        "mie_instan_hana = 20\n",
        "#diskon\n",
        "diskon = 90 #kelebihan dari 10\n",
        "\n",
        "jb_hana = (minyak_hana * minyak) + (ayam_hana * ayam) + (telur_hana * telur) + (sabun_cuci_hana * sabun_cuci) + (buah_anggur_hana * buah_anggur) + (roti_tawar_hana * roti_tawar) + (tissu_hana * tissu) + (mie_instan_hana * mie_instan)\n",
        "jb_diskon_hana = (jb_hana / 100) * diskon\n",
        "print(\"Maka jumlah belanjaan hana Rp.\" + str(jb_hana))\n",
        "print(\"Maka jumlah belanjaan hana setelah mendapatkan diskon adalah Rp.\" + str(jb_diskon_hana))\n",
        "print(\"\")\n",
        "print(\"==Belanjaan Widia==\")\n",
        "beras_widia = 1\n",
        "minyak_widia = 1\n",
        "telur_widia = 1\n",
        "buah_anggur_widia = 5\n",
        "tissu_widia = 3\n",
        "mie_instan_widia = 16\n",
        "jb_widia = (beras_widia * beras) + (minyak_widia * minyak) + (telur_widia * telur) + (buah_anggur_widia * buah_anggur) +  (tissu_widia * tissu) + (mie_instan_widia * mie_instan)\n",
        "print(\"Maka jumlah belanjaan widia Rp.\" + str(jb_widia))\n",
        "print(\"\")\n",
        "\n",
        "print(\"==Belanjaan Romi==\")\n",
        "minyak_romi = 3\n",
        "telur_romi = 2\n",
        "popok_romi = 4\n",
        "sabun_cuci_romi = 8\n",
        "mie_instan_romi = 8\n",
        "#diskon\n",
        "diskon = 85 #kelebihan dari 10\n",
        "\n",
        "jb_romi = (minyak_romi * minyak) + (telur_romi * telur) + (popok_romi * popok) + (sabun_cuci_romi * sabun_cuci) + (mie_instan_romi * mie_instan)\n",
        "jb_diskon_romi = (jb_romi / 100) * diskon\n",
        "print(\"Maka jumlah belanjaan romi Rp.\" + str(jb_romi))\n",
        "print(\"Maka jumlah belanjaan romi setelah mendapatkan diskon adalah Rp.\" + str(jb_diskon_romi))\n",
        "print(\"\")\n",
        "\n",
        "print(\"==Belanjaan Samsul==\")\n",
        "ayam_samsul = 3\n",
        "telur_samsul = 4\n",
        "popok_samsul = 2\n",
        "buah_anggur_samsul = 7\n",
        "tissu_samsul = 5\n",
        "mie_instan_samsul = 10\n",
        "#diskon\n",
        "diskon = 75 #kelebihan dari 10\n",
        "\n",
        "jb_samsul = (ayam_samsul * (ayam * 10)) + (telur_samsul * telur) + (popok_samsul * popok) + (buah_anggur_samsul * buah_anggur) + (tissu_samsul * tissu) + (mie_instan_samsul * mie_instan)\n",
        "jb_diskon_samsul = (jb_samsul / 100) * diskon\n",
        "print(\"Maka jumlah belanjaan Samsul Rp.\" + str(jb_samsul))\n",
        "print(\"Maka jumlah belanjaan Samsul setelah mendapatkan diskon adalah Rp.\" + str(jb_diskon_samsul))\n",
        "print(\"\")\n",
        "\n",
        "print(\"==Belanjaan dimas==\")\n",
        "ayam_dimas = 5\n",
        "popok_dimas = 5\n",
        "sabun_cuci_dimas = 4\n",
        "buah_anggur_dimas = 3\n",
        "roti_tawar_dimas = 5\n",
        "mie_instan_dimas = 6\n",
        "#diskon\n",
        "diskon = 75 #kelebihan dari 10\n",
        "\n",
        "jb_dimas = (ayam_dimas * (ayam * 10 )) + (popok_dimas * popok) + (sabun_cuci_dimas * sabun_cuci) + (buah_anggur_dimas * buah_anggur) + (roti_tawar_dimas * roti_tawar) + (mie_instan_dimas * mie_instan)\n",
        "jb_diskon_dimas = (jb_dimas / 100) * diskon\n",
        "print(\"Maka jumlah belanjaan Dimas Rp.\" + str(jb_dimas))\n",
        "print(\"Maka jumlah belanjaan Dimas setelah mendapatkan diskon adalah Rp.\" + str(jb_diskon_dimas))\n",
        "print(\"\")\n",
        "\n",
        "\n",
        "print(\"===Soal 3===\")\n",
        "max = [284475]\n",
        "print(\"Maka jumlah belanjaan paling besar setelah diskon adalah dimas RP.\" + str(max))\n",
        "\n",
        "print(\"\")\n",
        "print(\"===Soal 4===\")\n",
        "tenpersen = {\"hana\" : \"RP. 173880\"}\n",
        "print(\"Maka yang mendapat diskon 10% adalah : \" + str(tenpersen))\n",
        "print(\"\")\n",
        "\n",
        "\n",
        "\n",
        "\n",
        "\n"
      ]
    },
    {
      "cell_type": "code",
      "execution_count": null,
      "metadata": {
        "id": "TTudCFxVy5dO"
      },
      "outputs": [],
      "source": [
        "import matplotlib.pyplot as plt "
      ]
    },
    {
      "cell_type": "code",
      "execution_count": null,
      "metadata": {
        "colab": {
          "background_save": true
        },
        "id": "i0tghuFBy8RI",
        "outputId": "318c4a03-b54f-4063-d47a-3fdcfb64914f"
      },
      "outputs": [
        {
          "data": {
            "image/png": "[encoded data removed]",
            "text/plain": [
              "<Figure size 432x288 with 1 Axes>"
            ]
          },
          "metadata": {},
          "output_type": "display_data"
        }
      ],
      "source": [
        "(\"===Soal baru===\")\n",
        "fig = plt.figure()\n",
        "ax = fig.add_axes([0,0,1,1])\n",
        "nama = ['Tia', 'hana', 'widia', 'romi', 'samsul', 'dimas']\n",
        "jb = [246600, 193200, 119300, 221700, 323800, 379300]\n",
        "c = ['blue', 'green', 'red', 'yellow', 'red', 'blue']\n",
        "plt.title(\"PPDB Smk Al-madani GARUT\")\n",
        "plt.bar(jurus, siswa, color = c)\n",
        "plt.show()"
      ]
    }
  ],
  "metadata": {
    "colab": {
      "provenance": []
    },
    "kernelspec": {
      "display_name": "Python 3",
      "name": "python3"
    },
    "language_info": {
      "name": "python"
    }
  },
  "nbformat": 4,
  "nbformat_minor": 0
}